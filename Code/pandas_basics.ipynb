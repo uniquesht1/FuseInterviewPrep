{
 "cells": [
  {
   "cell_type": "markdown",
   "id": "f24bf271",
   "metadata": {},
   "source": [
    "# 📘 Pandas Basics in Python\n",
    "This notebook covers the essential and most useful Pandas functions for data analysis."
   ]
  },
  {
   "cell_type": "markdown",
   "id": "b88ebb87",
   "metadata": {},
   "source": [
    "## 1. Importing Pandas"
   ]
  },
  {
   "cell_type": "code",
   "execution_count": 1,
   "id": "138c269d",
   "metadata": {},
   "outputs": [],
   "source": [
    "import pandas as pd"
   ]
  },
  {
   "cell_type": "markdown",
   "id": "d3ba2736",
   "metadata": {},
   "source": [
    "## 2. Creating DataFrames and Series"
   ]
  },
  {
   "cell_type": "code",
   "execution_count": 2,
   "id": "ce058dc8",
   "metadata": {},
   "outputs": [
    {
     "name": "stdout",
     "output_type": "stream",
     "text": [
      "      Name  Age\n",
      "0    Alice   25\n",
      "1      Bob   30\n",
      "2  Charlie   35\n",
      "Series:\n",
      " 0    10\n",
      "1    20\n",
      "2    30\n",
      "dtype: int64\n"
     ]
    }
   ],
   "source": [
    "data = {'Name': ['Alice', 'Bob', 'Charlie'], 'Age': [25, 30, 35]}\n",
    "df = pd.DataFrame(data)\n",
    "print(df)\n",
    "\n",
    "s = pd.Series([10, 20, 30])\n",
    "print(\"Series:\\n\", s)"
   ]
  },
  {
   "cell_type": "markdown",
   "id": "7f227254",
   "metadata": {},
   "source": [
    "## 3. Reading and Writing Files"
   ]
  },
  {
   "cell_type": "code",
   "execution_count": 3,
   "id": "78359690",
   "metadata": {},
   "outputs": [],
   "source": [
    "# df.to_csv('data.csv', index=False)\n",
    "# df = pd.read_csv('data.csv')\n",
    "# df.to_excel('data.xlsx')\n",
    "# df = pd.read_excel('data.xlsx')\n",
    "# Use only when needed with actual files"
   ]
  },
  {
   "cell_type": "markdown",
   "id": "bf38d2ae",
   "metadata": {},
   "source": [
    "## 4. Data Inspection"
   ]
  },
  {
   "cell_type": "code",
   "execution_count": null,
   "id": "03adb153",
   "metadata": {},
   "outputs": [
    {
     "name": "stdout",
     "output_type": "stream",
     "text": [
      "      Name  Age\n",
      "0    Alice   25\n",
      "1      Bob   30\n",
      "2  Charlie   35\n",
      "      Name  Age\n",
      "0    Alice   25\n",
      "1      Bob   30\n",
      "2  Charlie   35\n",
      "<class 'pandas.core.frame.DataFrame'>\n",
      "RangeIndex: 3 entries, 0 to 2\n",
      "Data columns (total 2 columns):\n",
      " #   Column  Non-Null Count  Dtype \n",
      "---  ------  --------------  ----- \n",
      " 0   Name    3 non-null      object\n",
      " 1   Age     3 non-null      int64 \n",
      "dtypes: int64(1), object(1)\n",
      "memory usage: 180.0+ bytes\n",
      "None\n",
      "        Age\n",
      "count   3.0\n",
      "mean   30.0\n",
      "std     5.0\n",
      "min    25.0\n",
      "25%    27.5\n",
      "50%    30.0\n",
      "75%    32.5\n",
      "max    35.0\n"
     ]
    }
   ],
   "source": [
    "print(df.head())\n",
    "print(df.tail())\n",
    "print(df.info())\n",
    "print(df.describe())\n",
    "\n",
    "# df.head()       # Show first 5 rows\n",
    "# df.tail()       # Last 5 rows\n",
    "# df.shape        # (rows, columns)\n",
    "# df.columns      # Column names\n",
    "# df.info()       # Summary (data types, nulls)\n",
    "# df.describe()   # Stats on numeric columns"
   ]
  },
  {
   "cell_type": "markdown",
   "id": "f2d1bd8f",
   "metadata": {},
   "source": [
    "## 5. Selecting Columns and Rows"
   ]
  },
  {
   "cell_type": "code",
   "execution_count": 5,
   "id": "9c437f9e",
   "metadata": {},
   "outputs": [
    {
     "name": "stdout",
     "output_type": "stream",
     "text": [
      "0      Alice\n",
      "1        Bob\n",
      "2    Charlie\n",
      "Name: Name, dtype: object\n",
      "      Name  Age\n",
      "0    Alice   25\n",
      "1      Bob   30\n",
      "2  Charlie   35\n",
      "Name    Alice\n",
      "Age        25\n",
      "Name: 0, dtype: object\n",
      "Name    Bob\n",
      "Age      30\n",
      "Name: 1, dtype: object\n"
     ]
    }
   ],
   "source": [
    "print(df['Name'])  # Column\n",
    "print(df[['Name', 'Age']])\n",
    "print(df.loc[0])  # Row by label\n",
    "print(df.iloc[1])  # Row by index"
   ]
  },
  {
   "cell_type": "markdown",
   "id": "24985fe1",
   "metadata": {},
   "source": [
    "## 6. Filtering and Boolean Indexing"
   ]
  },
  {
   "cell_type": "code",
   "execution_count": 6,
   "id": "67f0ddeb",
   "metadata": {},
   "outputs": [
    {
     "name": "stdout",
     "output_type": "stream",
     "text": [
      "      Name  Age\n",
      "1      Bob   30\n",
      "2  Charlie   35\n"
     ]
    }
   ],
   "source": [
    "print(df[df['Age'] > 25])"
   ]
  },
  {
   "cell_type": "markdown",
   "id": "c45447cf",
   "metadata": {},
   "source": [
    "## 7. Adding and Modifying Columns"
   ]
  },
  {
   "cell_type": "code",
   "execution_count": 7,
   "id": "ed73c98a",
   "metadata": {},
   "outputs": [
    {
     "name": "stdout",
     "output_type": "stream",
     "text": [
      "      Name  Age Country  Age Plus 5\n",
      "0    Alice   25     USA          30\n",
      "1      Bob   30      UK          35\n",
      "2  Charlie   35  Canada          40\n"
     ]
    }
   ],
   "source": [
    "df['Country'] = ['USA', 'UK', 'Canada']\n",
    "df['Age Plus 5'] = df['Age'] + 5\n",
    "print(df)"
   ]
  },
  {
   "cell_type": "markdown",
   "id": "383d9c83",
   "metadata": {},
   "source": [
    "## 8. Deleting Columns or Rows"
   ]
  },
  {
   "cell_type": "code",
   "execution_count": 8,
   "id": "444b89d8",
   "metadata": {},
   "outputs": [
    {
     "name": "stdout",
     "output_type": "stream",
     "text": [
      "      Name  Age Country\n",
      "0    Alice   25     USA\n",
      "2  Charlie   35  Canada\n"
     ]
    }
   ],
   "source": [
    "df = df.drop('Age Plus 5', axis=1)  # Drop column\n",
    "df = df.drop(1, axis=0)  # Drop row by index\n",
    "print(df)"
   ]
  },
  {
   "cell_type": "markdown",
   "id": "c053bbf4",
   "metadata": {},
   "source": [
    "## 9. Sorting"
   ]
  },
  {
   "cell_type": "code",
   "execution_count": 9,
   "id": "553f6bfe",
   "metadata": {},
   "outputs": [
    {
     "name": "stdout",
     "output_type": "stream",
     "text": [
      "      Name  Age Country\n",
      "0    Alice   25     USA\n",
      "2  Charlie   35  Canada\n"
     ]
    }
   ],
   "source": [
    "print(df.sort_values(by='Age'))"
   ]
  },
  {
   "cell_type": "markdown",
   "id": "1bb70895",
   "metadata": {},
   "source": [
    "## 10. Handling Missing Data"
   ]
  },
  {
   "cell_type": "code",
   "execution_count": 10,
   "id": "1aa12c7c",
   "metadata": {},
   "outputs": [
    {
     "name": "stdout",
     "output_type": "stream",
     "text": [
      "      Name   Age Country\n",
      "0    Alice  25.0     USA\n",
      "2  Charlie   NaN  Canada\n",
      "      Name   Age Country\n",
      "0    Alice  25.0     USA\n",
      "2  Charlie   0.0  Canada\n",
      "    Name   Age Country\n",
      "0  Alice  25.0     USA\n"
     ]
    }
   ],
   "source": [
    "df.loc[2, 'Age'] = None\n",
    "print(df)\n",
    "df_filled = df.fillna(0)\n",
    "print(df_filled)\n",
    "df_dropped = df.dropna()\n",
    "print(df_dropped)"
   ]
  },
  {
   "cell_type": "markdown",
   "id": "6b7ee470",
   "metadata": {},
   "source": [
    "## 11. Grouping and Aggregation"
   ]
  },
  {
   "cell_type": "code",
   "execution_count": 11,
   "id": "82532105",
   "metadata": {},
   "outputs": [
    {
     "name": "stdout",
     "output_type": "stream",
     "text": [
      "Department\n",
      "HR    53500.0\n",
      "IT    62500.0\n",
      "Name: Salary, dtype: float64\n"
     ]
    }
   ],
   "source": [
    "df = pd.DataFrame({\n",
    "    'Department': ['IT', 'HR', 'IT', 'HR'],\n",
    "    'Employee': ['Alice', 'Bob', 'Charlie', 'David'],\n",
    "    'Salary': [60000, 55000, 65000, 52000]\n",
    "})\n",
    "print(df.groupby('Department')['Salary'].mean())"
   ]
  },
  {
   "cell_type": "markdown",
   "id": "bffec2c2",
   "metadata": {},
   "source": [
    "## 12. Merging and Joining DataFrames"
   ]
  },
  {
   "cell_type": "code",
   "execution_count": 12,
   "id": "e94c9430",
   "metadata": {},
   "outputs": [
    {
     "name": "stdout",
     "output_type": "stream",
     "text": [
      "   ID   Name  Salary\n",
      "0   1  Alice   60000\n",
      "1   2    Bob   55000\n"
     ]
    }
   ],
   "source": [
    "df1 = pd.DataFrame({'ID': [1, 2], 'Name': ['Alice', 'Bob']})\n",
    "df2 = pd.DataFrame({'ID': [1, 2], 'Salary': [60000, 55000]})\n",
    "merged = pd.merge(df1, df2, on='ID')\n",
    "print(merged)"
   ]
  },
  {
   "cell_type": "markdown",
   "id": "1fc92af1",
   "metadata": {},
   "source": [
    "## 13. Pivot Tables"
   ]
  },
  {
   "cell_type": "code",
   "execution_count": 13,
   "id": "af7f5417",
   "metadata": {},
   "outputs": [
    {
     "name": "stdout",
     "output_type": "stream",
     "text": [
      "             Salary\n",
      "Department         \n",
      "HR          53500.0\n",
      "IT          62500.0\n"
     ]
    }
   ],
   "source": [
    "pivot_df = df.pivot_table(values='Salary', index='Department', aggfunc='mean')\n",
    "print(pivot_df)"
   ]
  },
  {
   "cell_type": "markdown",
   "id": "d88b05c4",
   "metadata": {},
   "source": [
    "## 14. Working with Dates"
   ]
  },
  {
   "cell_type": "code",
   "execution_count": 14,
   "id": "ea041e5f",
   "metadata": {},
   "outputs": [
    {
     "name": "stdout",
     "output_type": "stream",
     "text": [
      "        Date  Value\n",
      "0 2024-01-01     10\n",
      "1 2024-01-02     20\n",
      "2 2024-01-03     30\n",
      "3 2024-01-04     40\n",
      "4 2024-01-05     50\n",
      "0    1\n",
      "1    1\n",
      "2    1\n",
      "3    1\n",
      "4    1\n",
      "Name: Date, dtype: int32\n"
     ]
    }
   ],
   "source": [
    "date_df = pd.DataFrame({\n",
    "    'Date': pd.date_range('2024-01-01', periods=5),\n",
    "    'Value': [10, 20, 30, 40, 50]\n",
    "})\n",
    "print(date_df)\n",
    "print(date_df['Date'].dt.month)"
   ]
  },
  {
   "cell_type": "markdown",
   "id": "2db1a9a7",
   "metadata": {},
   "source": [
    "## 15. Useful Utilities"
   ]
  },
  {
   "cell_type": "code",
   "execution_count": 15,
   "id": "1a56a894",
   "metadata": {},
   "outputs": [
    {
     "name": "stdout",
     "output_type": "stream",
     "text": [
      "Index(['Department', 'Employee', 'Salary'], dtype='object')\n",
      "RangeIndex(start=0, stop=4, step=1)\n",
      "(4, 3)\n",
      "Department    object\n",
      "Employee      object\n",
      "Salary         int64\n",
      "dtype: object\n"
     ]
    }
   ],
   "source": [
    "print(df.columns)\n",
    "print(df.index)\n",
    "print(df.shape)\n",
    "print(df.dtypes)"
   ]
  }
 ],
 "metadata": {
  "kernelspec": {
   "display_name": "Python 3",
   "language": "python",
   "name": "python3"
  },
  "language_info": {
   "codemirror_mode": {
    "name": "ipython",
    "version": 3
   },
   "file_extension": ".py",
   "mimetype": "text/x-python",
   "name": "python",
   "nbconvert_exporter": "python",
   "pygments_lexer": "ipython3",
   "version": "3.12.8"
  }
 },
 "nbformat": 4,
 "nbformat_minor": 5
}
