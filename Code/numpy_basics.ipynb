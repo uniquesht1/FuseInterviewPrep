{
 "cells": [
  {
   "cell_type": "markdown",
   "id": "8c217430",
   "metadata": {},
   "source": [
    "# 📘 NumPy Basics in Python\n",
    "This notebook covers the fundamental concepts and usage of NumPy."
   ]
  },
  {
   "cell_type": "markdown",
   "id": "4c05e72d",
   "metadata": {},
   "source": [
    "## 1. Importing NumPy"
   ]
  },
  {
   "cell_type": "code",
   "execution_count": 1,
   "id": "2a301cc5",
   "metadata": {},
   "outputs": [],
   "source": [
    "import numpy as np"
   ]
  },
  {
   "cell_type": "markdown",
   "id": "2d29a6c0",
   "metadata": {},
   "source": [
    "## 2. Creating Arrays"
   ]
  },
  {
   "cell_type": "code",
   "execution_count": 2,
   "id": "2925c12b",
   "metadata": {},
   "outputs": [
    {
     "name": "stdout",
     "output_type": "stream",
     "text": [
      "1D array: [1 2 3]\n",
      "2D array:\n",
      " [[1 2]\n",
      " [3 4]]\n"
     ]
    }
   ],
   "source": [
    "a = np.array([1, 2, 3])\n",
    "print(\"1D array:\", a)\n",
    "\n",
    "b = np.array([[1, 2], [3, 4]])\n",
    "print(\"2D array:\\n\", b)"
   ]
  },
  {
   "cell_type": "markdown",
   "id": "b9f9afcb",
   "metadata": {},
   "source": [
    "## 3. Array Attributes"
   ]
  },
  {
   "cell_type": "code",
   "execution_count": 3,
   "id": "30ee7113",
   "metadata": {},
   "outputs": [
    {
     "name": "stdout",
     "output_type": "stream",
     "text": [
      "Shape: (2, 2)\n",
      "Dimensions: 2\n",
      "Data type: int64\n"
     ]
    }
   ],
   "source": [
    "print(\"Shape:\", b.shape)\n",
    "print(\"Dimensions:\", b.ndim)\n",
    "print(\"Data type:\", b.dtype)"
   ]
  },
  {
   "cell_type": "markdown",
   "id": "7d834a1b",
   "metadata": {},
   "source": [
    "## 4. Array Indexing and Slicing"
   ]
  },
  {
   "cell_type": "code",
   "execution_count": 4,
   "id": "19026605",
   "metadata": {},
   "outputs": [
    {
     "name": "stdout",
     "output_type": "stream",
     "text": [
      "First element: 1\n",
      "Second row: [3 4]\n",
      "Element at (1,1): 4\n"
     ]
    }
   ],
   "source": [
    "print(\"First element:\", a[0])\n",
    "print(\"Second row:\", b[1])\n",
    "print(\"Element at (1,1):\", b[1,1])"
   ]
  },
  {
   "cell_type": "markdown",
   "id": "aa097862",
   "metadata": {},
   "source": [
    "## 5. Array Operations"
   ]
  },
  {
   "cell_type": "code",
   "execution_count": 5,
   "id": "24f93768",
   "metadata": {},
   "outputs": [
    {
     "name": "stdout",
     "output_type": "stream",
     "text": [
      "Addition: [5 7 9]\n",
      "Multiplication: [ 4 10 18]\n",
      "Dot product: 32\n"
     ]
    }
   ],
   "source": [
    "x = np.array([1, 2, 3])\n",
    "y = np.array([4, 5, 6])\n",
    "print(\"Addition:\", x + y)\n",
    "print(\"Multiplication:\", x * y)\n",
    "print(\"Dot product:\", np.dot(x, y))"
   ]
  },
  {
   "cell_type": "markdown",
   "id": "2f01dd9f",
   "metadata": {},
   "source": [
    "## 6. Useful NumPy Functions"
   ]
  },
  {
   "cell_type": "code",
   "execution_count": 6,
   "id": "aa7b428f",
   "metadata": {},
   "outputs": [
    {
     "name": "stdout",
     "output_type": "stream",
     "text": [
      "Zeros: [[0. 0. 0.]\n",
      " [0. 0. 0.]]\n",
      "Ones: [[1. 1. 1.]\n",
      " [1. 1. 1.]]\n",
      "Range: [0 2 4 6 8]\n",
      "Linspace: [0.   0.25 0.5  0.75 1.  ]\n"
     ]
    }
   ],
   "source": [
    "print(\"Zeros:\", np.zeros((2, 3)))\n",
    "print(\"Ones:\", np.ones((2, 3)))\n",
    "print(\"Range:\", np.arange(0, 10, 2))\n",
    "print(\"Linspace:\", np.linspace(0, 1, 5))"
   ]
  },
  {
   "cell_type": "markdown",
   "id": "1eceb77f",
   "metadata": {},
   "source": [
    "## 7. Reshaping Arrays"
   ]
  },
  {
   "cell_type": "code",
   "execution_count": 7,
   "id": "24c38fd5",
   "metadata": {},
   "outputs": [
    {
     "name": "stdout",
     "output_type": "stream",
     "text": [
      "Original: [0 1 2 3 4 5]\n",
      "Reshaped to 2x3:\n",
      " [[0 1 2]\n",
      " [3 4 5]]\n"
     ]
    }
   ],
   "source": [
    "arr = np.arange(6)\n",
    "print(\"Original:\", arr)\n",
    "reshaped = arr.reshape((2, 3))\n",
    "print(\"Reshaped to 2x3:\\n\", reshaped)"
   ]
  },
  {
   "cell_type": "markdown",
   "id": "0da3d61c",
   "metadata": {},
   "source": [
    "## 8. Aggregation Functions"
   ]
  },
  {
   "cell_type": "code",
   "execution_count": 8,
   "id": "26f05d9d",
   "metadata": {},
   "outputs": [
    {
     "name": "stdout",
     "output_type": "stream",
     "text": [
      "Sum: 10\n",
      "Max: 4\n",
      "Mean: 2.5\n"
     ]
    }
   ],
   "source": [
    "print(\"Sum:\", np.sum(b))\n",
    "print(\"Max:\", np.max(b))\n",
    "print(\"Mean:\", np.mean(b))"
   ]
  },
  {
   "cell_type": "markdown",
   "id": "d9027b5e",
   "metadata": {},
   "source": [
    "## 9. Random Module"
   ]
  },
  {
   "cell_type": "code",
   "execution_count": 9,
   "id": "f02b962a",
   "metadata": {},
   "outputs": [
    {
     "name": "stdout",
     "output_type": "stream",
     "text": [
      "Random integers: [[7 6 7]\n",
      " [0 1 4]]\n",
      "Random floats: [[0.37453557 0.74845326 0.05561272]\n",
      " [0.20438351 0.19493933 0.540898  ]]\n"
     ]
    }
   ],
   "source": [
    "print(\"Random integers:\", np.random.randint(0, 10, (2, 3)))\n",
    "print(\"Random floats:\", np.random.rand(2, 3))"
   ]
  },
  {
   "cell_type": "markdown",
   "id": "b023c025",
   "metadata": {},
   "source": [
    "## 10. Boolean Masking and Filtering"
   ]
  },
  {
   "cell_type": "code",
   "execution_count": 10,
   "id": "e77aacfa",
   "metadata": {},
   "outputs": [
    {
     "name": "stdout",
     "output_type": "stream",
     "text": [
      "Mask: [False False  True  True]\n",
      "Filtered: [30 40]\n"
     ]
    }
   ],
   "source": [
    "data = np.array([10, 20, 30, 40])\n",
    "mask = data > 25\n",
    "print(\"Mask:\", mask)\n",
    "print(\"Filtered:\", data[mask])"
   ]
  }
 ],
 "metadata": {
  "kernelspec": {
   "display_name": "Python 3",
   "language": "python",
   "name": "python3"
  },
  "language_info": {
   "codemirror_mode": {
    "name": "ipython",
    "version": 3
   },
   "file_extension": ".py",
   "mimetype": "text/x-python",
   "name": "python",
   "nbconvert_exporter": "python",
   "pygments_lexer": "ipython3",
   "version": "3.12.8"
  }
 },
 "nbformat": 4,
 "nbformat_minor": 5
}
